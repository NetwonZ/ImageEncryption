{
 "cells": [
  {
   "cell_type": "markdown",
   "id": "f06e269c",
   "metadata": {},
   "source": [
    "#### 读入3张测试图像"
   ]
  },
  {
   "cell_type": "code",
   "execution_count": 1,
   "id": "714dc1c4",
   "metadata": {},
   "outputs": [],
   "source": [
    "import cv2 as cv\n",
    "import numpy as np\n",
    "import matplotlib.pyplot as plt\n",
    "import os\n",
    "\n",
    "imgs = []\n",
    "path = \"../Testimg/\"\n",
    "for i in os.listdir(path):\n",
    "    t_path = path + i\n",
    "    imgs.append(cv.imread(t_path))\n",
    "\n",
    "pass"
   ]
  }
 ],
 "metadata": {
  "kernelspec": {
   "display_name": "base",
   "language": "python",
   "name": "python3"
  },
  "language_info": {
   "codemirror_mode": {
    "name": "ipython",
    "version": 3
   },
   "file_extension": ".py",
   "mimetype": "text/x-python",
   "name": "python",
   "nbconvert_exporter": "python",
   "pygments_lexer": "ipython3",
   "version": "3.13.5"
  }
 },
 "nbformat": 4,
 "nbformat_minor": 5
}
